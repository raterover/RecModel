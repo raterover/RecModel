{
 "cells": [
  {
   "cell_type": "markdown",
   "metadata": {},
   "source": [
    "# Version 1.1 RecModel Using Simple ANN's "
   ]
  },
  {
   "cell_type": "markdown",
   "metadata": {},
   "source": [
    "Import the Libs needed for the script."
   ]
  },
  {
   "cell_type": "code",
   "execution_count": 1,
   "metadata": {},
   "outputs": [
    {
     "name": "stderr",
     "output_type": "stream",
     "text": [
      "Using TensorFlow backend.\n"
     ]
    }
   ],
   "source": [
    "import pandas as pd\n",
    "import numpy as np\n",
    "import requests\n",
    "import re\n",
    "import seaborn\n",
    "import matplotlib.pyplot as plt\n",
    "import tensorflow as tf\n",
    "from __future__ import absolute_import\n",
    "from __future__ import division\n",
    "from __future__ import print_function\n",
    "import keras\n",
    "from keras.layers.advanced_activations import LeakyReLU\n",
    "from keras.layers import Activation, Dense, Input, Dropout\n",
    "from keras.layers import Conv2D, Flatten\n",
    "from keras.models import Model\n",
    "from keras import backend as K\n",
    "import os, cv2\n",
    "import tensorflow as tf\n",
    "from keras import losses\n",
    "from keras.optimizers import SGD,RMSprop,adam\n",
    "from keras.layers import Reshape, Conv2DTranspose, BatchNormalization\n",
    "from IPython.display import clear_output\n",
    "from sklearn.utils import shuffle\n",
    "from keras.utils import np_utils\n",
    "from keras.models import Sequential\n",
    "from keras.utils import np_utils\n",
    "from keras.models import Sequential\n",
    "from keras.layers.convolutional import Convolution2D, MaxPooling2D\n",
    "from keras.layers import Activation, Flatten, Dense, Dropout\n",
    "from keras.optimizers import SGD\n",
    "from keras.layers.normalization import BatchNormalization\n",
    "import keras \n",
    "import tensorflow as tf"
   ]
  },
  {
   "cell_type": "markdown",
   "metadata": {},
   "source": [
    "# Read Clean Dataset"
   ]
  },
  {
   "cell_type": "markdown",
   "metadata": {},
   "source": [
    "Read the clean data after running the Cleaning_Data.py script to fill missing data and scalerize the features. This makes it easy to work with and make data discrete. "
   ]
  },
  {
   "cell_type": "code",
   "execution_count": 3,
   "metadata": {},
   "outputs": [
    {
     "name": "stdout",
     "output_type": "stream",
     "text": [
      "(223, 10)\n"
     ]
    },
    {
     "data": {
      "text/html": [
       "<div>\n",
       "<style scoped>\n",
       "    .dataframe tbody tr th:only-of-type {\n",
       "        vertical-align: middle;\n",
       "    }\n",
       "\n",
       "    .dataframe tbody tr th {\n",
       "        vertical-align: top;\n",
       "    }\n",
       "\n",
       "    .dataframe thead th {\n",
       "        text-align: right;\n",
       "    }\n",
       "</style>\n",
       "<table border=\"1\" class=\"dataframe\">\n",
       "  <thead>\n",
       "    <tr style=\"text-align: right;\">\n",
       "      <th></th>\n",
       "      <th>0</th>\n",
       "      <th>5</th>\n",
       "      <th>1</th>\n",
       "      <th>4</th>\n",
       "      <th>0.1</th>\n",
       "      <th>2</th>\n",
       "      <th>5.1</th>\n",
       "      <th>3</th>\n",
       "      <th>2.1</th>\n",
       "      <th>4.1</th>\n",
       "    </tr>\n",
       "  </thead>\n",
       "  <tbody>\n",
       "    <tr>\n",
       "      <th>0</th>\n",
       "      <td>0</td>\n",
       "      <td>3</td>\n",
       "      <td>1</td>\n",
       "      <td>4</td>\n",
       "      <td>0</td>\n",
       "      <td>0</td>\n",
       "      <td>0</td>\n",
       "      <td>3</td>\n",
       "      <td>2</td>\n",
       "      <td>4</td>\n",
       "    </tr>\n",
       "    <tr>\n",
       "      <th>1</th>\n",
       "      <td>1</td>\n",
       "      <td>2</td>\n",
       "      <td>0</td>\n",
       "      <td>0</td>\n",
       "      <td>3</td>\n",
       "      <td>0</td>\n",
       "      <td>2</td>\n",
       "      <td>0</td>\n",
       "      <td>0</td>\n",
       "      <td>9</td>\n",
       "    </tr>\n",
       "    <tr>\n",
       "      <th>2</th>\n",
       "      <td>1</td>\n",
       "      <td>3</td>\n",
       "      <td>1</td>\n",
       "      <td>0</td>\n",
       "      <td>4</td>\n",
       "      <td>0</td>\n",
       "      <td>2</td>\n",
       "      <td>0</td>\n",
       "      <td>0</td>\n",
       "      <td>2</td>\n",
       "    </tr>\n",
       "    <tr>\n",
       "      <th>3</th>\n",
       "      <td>1</td>\n",
       "      <td>2</td>\n",
       "      <td>1</td>\n",
       "      <td>0</td>\n",
       "      <td>2</td>\n",
       "      <td>0</td>\n",
       "      <td>2</td>\n",
       "      <td>0</td>\n",
       "      <td>0</td>\n",
       "      <td>0</td>\n",
       "    </tr>\n",
       "    <tr>\n",
       "      <th>4</th>\n",
       "      <td>1</td>\n",
       "      <td>4</td>\n",
       "      <td>1</td>\n",
       "      <td>0</td>\n",
       "      <td>4</td>\n",
       "      <td>0</td>\n",
       "      <td>2</td>\n",
       "      <td>0</td>\n",
       "      <td>0</td>\n",
       "      <td>2</td>\n",
       "    </tr>\n",
       "  </tbody>\n",
       "</table>\n",
       "</div>"
      ],
      "text/plain": [
       "   0  5  1  4  0.1  2  5.1  3  2.1  4.1\n",
       "0  0  3  1  4    0  0    0  3    2    4\n",
       "1  1  2  0  0    3  0    2  0    0    9\n",
       "2  1  3  1  0    4  0    2  0    0    2\n",
       "3  1  2  1  0    2  0    2  0    0    0\n",
       "4  1  4  1  0    4  0    2  0    0    2"
      ]
     },
     "execution_count": 3,
     "metadata": {},
     "output_type": "execute_result"
    }
   ],
   "source": [
    "dataset = pd.read_csv('Cleaned_Dataset.csv')\n",
    "print(dataset.shape)\n",
    "dataset.head()"
   ]
  },
  {
   "cell_type": "markdown",
   "metadata": {},
   "source": [
    "# Seperate Data Features vs. Targets"
   ]
  },
  {
   "cell_type": "markdown",
   "metadata": {},
   "source": [
    "The seperate X_data represent the input values. 'PLACE' and 'target' represent the Credit card target. What should the model predict given X_data. Also this snipet of code converts Pandas => numpy/matrix data type to feed into model with the '.as_matrix()' function. "
   ]
  },
  {
   "cell_type": "code",
   "execution_count": 41,
   "metadata": {},
   "outputs": [
    {
     "name": "stdout",
     "output_type": "stream",
     "text": [
      "(223, 8)\n",
      "[[0.         0.50709255 0.16903085 ... 0.         0.         0.50709255]\n",
      " [0.23570226 0.47140452 0.         ... 0.         0.47140452 0.        ]\n",
      " [0.1796053  0.53881591 0.1796053  ... 0.         0.3592106  0.        ]\n",
      " ...\n",
      " [0.2        0.6        0.2        ... 0.         0.4        0.        ]\n",
      " [0.21320072 0.85280287 0.21320072 ... 0.         0.         0.        ]\n",
      " [0.21821789 0.65465367 0.21821789 ... 0.         0.         0.        ]]\n",
      "(223,)\n"
     ]
    },
    {
     "name": "stderr",
     "output_type": "stream",
     "text": [
      "D:\\Anaconda\\envs\\Python3.6\\lib\\site-packages\\ipykernel_launcher.py:3: FutureWarning: Method .as_matrix will be removed in a future version. Use .values instead.\n",
      "  This is separate from the ipykernel package so we can avoid doing imports until\n",
      "D:\\Anaconda\\envs\\Python3.6\\lib\\site-packages\\ipykernel_launcher.py:8: FutureWarning: Method .as_matrix will be removed in a future version. Use .values instead.\n",
      "  \n"
     ]
    }
   ],
   "source": [
    "from sklearn.preprocessing import normalize\n",
    "FEATURES = dataset.columns[0:8]\n",
    "X_data = dataset[FEATURES].as_matrix()\n",
    "X_data = normalize(X_data)\n",
    "print(X_data.shape)\n",
    "print(X_data)\n",
    "PLACE = dataset.columns[9]\n",
    "target = dataset[PLACE].as_matrix()\n",
    "print(target.shape)\n"
   ]
  },
  {
   "cell_type": "markdown",
   "metadata": {},
   "source": [
    "This snipet converts the single vector Y and turn it into a classification matrix with each class being the columns and the Rows being each Person/user."
   ]
  },
  {
   "cell_type": "code",
   "execution_count": 42,
   "metadata": {},
   "outputs": [
    {
     "name": "stdout",
     "output_type": "stream",
     "text": [
      "[[0 0 0 ... 0 0 0]\n",
      " [0 0 0 ... 0 0 0]\n",
      " [0 0 0 ... 0 0 0]\n",
      " ...\n",
      " [0 0 0 ... 0 0 0]\n",
      " [0 0 0 ... 0 0 0]\n",
      " [0 0 0 ... 0 0 0]]\n"
     ]
    }
   ],
   "source": [
    "from sklearn.preprocessing import normalize\n",
    "num_classes = 14\n",
    "num_of_samples = X_data.shape[0]\n",
    "label = np.zeros((num_of_samples,num_classes),dtype='int64')\n",
    "print(label)"
   ]
  },
  {
   "cell_type": "markdown",
   "metadata": {},
   "source": [
    "Loop through the list to assign each proper label to the data. "
   ]
  },
  {
   "cell_type": "code",
   "execution_count": 43,
   "metadata": {},
   "outputs": [
    {
     "name": "stdout",
     "output_type": "stream",
     "text": [
      "(223, 14)\n"
     ]
    }
   ],
   "source": [
    "for i in range(0,223):\n",
    "    if target[i]== 0:\n",
    "        label[i,0]= 1\n",
    "    elif target[i] == 1:\n",
    "        label[i,1] = 1\n",
    "    elif target[i] == 2:\n",
    "        label[i,2] = 1\n",
    "    elif target[i] == 3:\n",
    "        label[i,3] = 1\n",
    "    elif target[i] == 4:\n",
    "        label[i,4] = 1\n",
    "    elif target[i] == 5:\n",
    "        label[i,5] = 1\n",
    "    elif target[i] == 6:\n",
    "        label[i,6] = 1\n",
    "    elif target[i] == 7:\n",
    "        label[i,7] = 1\n",
    "    elif target[i] == 8:\n",
    "        label[i,8] = 1\n",
    "    elif target[i] == 9:\n",
    "        label[i,9] = 1\n",
    "    elif target[i] == 10:\n",
    "        label[i,10] = 1\n",
    "    elif target[i] == 11:\n",
    "        label[i,11] = 1\n",
    "    elif target[i] == 12:\n",
    "        label[i,12] = 1\n",
    "    else:\n",
    "        label[i,13] = 1\n",
    "Y = label\n",
    "print(Y.shape)"
   ]
  },
  {
   "cell_type": "markdown",
   "metadata": {},
   "source": [
    "Split the training set into each section for testing and training. "
   ]
  },
  {
   "cell_type": "code",
   "execution_count": 44,
   "metadata": {},
   "outputs": [
    {
     "name": "stdout",
     "output_type": "stream",
     "text": [
      "[0 1 0 0 0 0 0 0 0 0 0 0 0 0]\n"
     ]
    }
   ],
   "source": [
    "from sklearn.model_selection import train_test_split\n",
    "X_train, X_test, y_train, y_test = train_test_split(X_data, Y, test_size=0.3, random_state=1)\n",
    "print(y_test[20])"
   ]
  },
  {
   "cell_type": "markdown",
   "metadata": {},
   "source": [
    "# The Model."
   ]
  },
  {
   "cell_type": "markdown",
   "metadata": {},
   "source": [
    "Create the Fully connected Neural Network with LeakyRelu activations to prevent the neurons from 'dying' (precaution) Normalize after each layer training to be faster and more accurate. "
   ]
  },
  {
   "cell_type": "code",
   "execution_count": 45,
   "metadata": {},
   "outputs": [
    {
     "name": "stderr",
     "output_type": "stream",
     "text": [
      "D:\\Anaconda\\envs\\Python3.6\\lib\\site-packages\\keras\\activations.py:115: UserWarning: Do not pass a layer instance (such as LeakyReLU) as the activation argument of another layer. Instead, advanced activation layers should be used just like any other layer in a model.\n",
      "  identifier=identifier.__class__.__name__))\n",
      "D:\\Anaconda\\envs\\Python3.6\\lib\\site-packages\\keras\\activations.py:115: UserWarning: Do not pass a layer instance (such as LeakyReLU) as the activation argument of another layer. Instead, advanced activation layers should be used just like any other layer in a model.\n",
      "  identifier=identifier.__class__.__name__))\n",
      "D:\\Anaconda\\envs\\Python3.6\\lib\\site-packages\\keras\\activations.py:115: UserWarning: Do not pass a layer instance (such as LeakyReLU) as the activation argument of another layer. Instead, advanced activation layers should be used just like any other layer in a model.\n",
      "  identifier=identifier.__class__.__name__))\n"
     ]
    },
    {
     "name": "stdout",
     "output_type": "stream",
     "text": [
      "_________________________________________________________________\n",
      "Layer (type)                 Output Shape              Param #   \n",
      "=================================================================\n",
      "dense_37 (Dense)             (None, 256)               2304      \n",
      "_________________________________________________________________\n",
      "batch_normalization_28 (Batc (None, 256)               1024      \n",
      "_________________________________________________________________\n",
      "dropout_28 (Dropout)         (None, 256)               0         \n",
      "_________________________________________________________________\n",
      "dense_38 (Dense)             (None, 128)               32896     \n",
      "_________________________________________________________________\n",
      "batch_normalization_29 (Batc (None, 128)               512       \n",
      "_________________________________________________________________\n",
      "dropout_29 (Dropout)         (None, 128)               0         \n",
      "_________________________________________________________________\n",
      "dense_39 (Dense)             (None, 64)                8256      \n",
      "_________________________________________________________________\n",
      "batch_normalization_30 (Batc (None, 64)                256       \n",
      "_________________________________________________________________\n",
      "dropout_30 (Dropout)         (None, 64)                0         \n",
      "_________________________________________________________________\n",
      "dense_40 (Dense)             (None, 14)                910       \n",
      "_________________________________________________________________\n",
      "activation_10 (Activation)   (None, 14)                0         \n",
      "=================================================================\n",
      "Total params: 46,158\n",
      "Trainable params: 45,262\n",
      "Non-trainable params: 896\n",
      "_________________________________________________________________\n"
     ]
    },
    {
     "name": "stderr",
     "output_type": "stream",
     "text": [
      "D:\\Anaconda\\envs\\Python3.6\\lib\\site-packages\\keras\\activations.py:115: UserWarning: Do not pass a layer instance (such as LeakyReLU) as the activation argument of another layer. Instead, advanced activation layers should be used just like any other layer in a model.\n",
      "  identifier=identifier.__class__.__name__))\n"
     ]
    }
   ],
   "source": [
    "from keras.layers import LeakyReLU\n",
    "model = Sequential()\n",
    "model.add(Dense(256, activation = LeakyReLU(alpha=0.1), input_shape=(8, )))\n",
    "model.add(BatchNormalization())\n",
    "model.add(Dropout(0.5))\n",
    "model.add(Dense(128, activation = LeakyReLU(alpha=0.1)))\n",
    "model.add(BatchNormalization())\n",
    "model.add(Dropout(0.5))\n",
    "model.add(Dense(64, activation = LeakyReLU(alpha=0.1)))\n",
    "model.add(BatchNormalization())\n",
    "model.add(Dropout(0.5))\n",
    "model.add(Dense(14, activation = LeakyReLU(alpha=0.1)))\n",
    "model.add(Activation(\"softmax\"))\n",
    "model.summary()"
   ]
  },
  {
   "cell_type": "markdown",
   "metadata": {},
   "source": [
    "# Visualize The Training. "
   ]
  },
  {
   "cell_type": "code",
   "execution_count": 46,
   "metadata": {},
   "outputs": [],
   "source": [
    "class PlotLosses(keras.callbacks.Callback):\n",
    "    def on_train_begin(self, logs={}):\n",
    "        self.i = 0\n",
    "        self.x = []\n",
    "        self.losses = []\n",
    "        self.val_losses = []\n",
    "        self.fig = plt.figure()\n",
    "        self.logs = []\n",
    "    def on_epoch_end(self, epoch, logs={}):\n",
    "        \n",
    "        self.logs.append(logs)\n",
    "        self.x.append(self.i)\n",
    "        self.losses.append(logs.get('loss'))\n",
    "        self.val_losses.append(logs.get('val_loss'))\n",
    "        self.i += 1\n",
    "        plt.savefig('figure.png', dpi = 300)\n",
    "        clear_output(wait=True)\n",
    "        plt.plot(self.x, self.losses, label=\"loss\")\n",
    "        plt.plot(self.x, self.val_losses, label=\"val_loss\")\n",
    "        plt.legend()\n",
    "        plt.show();\n",
    "        \n",
    "        \n",
    "plot_losses = PlotLosses()"
   ]
  },
  {
   "cell_type": "markdown",
   "metadata": {},
   "source": [
    "# Training "
   ]
  },
  {
   "cell_type": "markdown",
   "metadata": {},
   "source": [
    "Currently on the works => Preformance is bad and the learning rate is not optimized. However, training with SGD or ADAM should work. Just need to find proper Learning rate. No need for clipping norm since theres probably no exploding grads."
   ]
  },
  {
   "cell_type": "code",
   "execution_count": 47,
   "metadata": {},
   "outputs": [
    {
     "data": {
      "image/png": "[encoded data removed]",
      "text/plain": [
       "<Figure size 432x288 with 1 Axes>"
      ]
     },
     "metadata": {
      "needs_background": "light"
     },
     "output_type": "display_data"
    }
   ],
   "source": [
    "training_epochs = 100\n",
    "# Need help on fixing the training. The losses aren't changing as the learning rate goes up. Really weird. \n",
    "rmsprop = RMSprop(lr=1000, rho=0.9, epsilon=None, decay=0.01)\n",
    "model.compile(optimizer=rmsprop, loss='categorical_crossentropy', metrics=['accuracy'])\n",
    "hist = model.fit(X_train, y_train, batch_size=1, nb_epoch=training_epochs, verbose=1, validation_data=(X_test, y_test),  callbacks=[plot_losses],)"
   ]
  },
  {
   "cell_type": "markdown",
   "metadata": {},
   "source": [
    "# Test The Model"
   ]
  },
  {
   "cell_type": "markdown",
   "metadata": {},
   "source": [
    "First cell is used to execute and find the highest probability in the predicted result. This is indicated by the np.argmax(result) and then the GROUND TRUTH is found using the similar approach. The second snipet of code is just outputting the final classification of the credit card type "
   ]
  },
  {
   "cell_type": "code",
   "execution_count": 17,
   "metadata": {},
   "outputs": [
    {
     "name": "stdout",
     "output_type": "stream",
     "text": [
      "[[1. 0. 0. 0. 0. 0. 0. 0. 0. 0. 0. 0. 0. 0.]]\n",
      "[[1 0 0 0 0 0 0 0 0 0 0 0 0 0]]\n"
     ]
    }
   ],
   "source": [
    "#The person we wish to check. \n",
    "test_subject = 1\n",
    "\n",
    "test_value = X_test [test_subject-1:test_subject, :]\n",
    "result = model.predict(test_value)\n",
    "print(result)\n",
    "num = np.argmax(result)\n",
    "real = np.argmax(y_test[test_subject-1:test_subject, :])\n",
    "print(y_test[test_subject-1:test_subject, :])"
   ]
  },
  {
   "cell_type": "code",
   "execution_count": 18,
   "metadata": {},
   "outputs": [
    {
     "name": "stdout",
     "output_type": "stream",
     "text": [
      "Model Prediction\n",
      "Predicted: American Express Cobalt\n",
      "\n",
      "Ground Truth: \n",
      "Predicted: American Express Cobalt\n"
     ]
    }
   ],
   "source": [
    "print(\"Model Prediction\")\n",
    "if num ==0:\n",
    "    print(\"Predicted: American Express Cobalt\")\n",
    "elif num ==1:\n",
    "    print(\"Predicted: American Express Essential\")\n",
    "elif num ==2:\n",
    "    print(\"Predicted: American Express Marriot Bonvoy\")\n",
    "elif num ==3:\n",
    "    print(\"Predicted: American Express Simply Cash\")\n",
    "elif num ==4:\n",
    "    print(\"Predicted: American Express Simply Cash Preferred\")\n",
    "elif num ==5:\n",
    "    print(\"Predicted: Meridian Visa Infinite\")\n",
    "elif num ==6:\n",
    "    print(\"Predicted: PC Financial Mastercard\")\n",
    "elif num ==7:\n",
    "    print(\"Predicted: Scotiabank Momentum No-Fee Visa\")\n",
    "elif num ==8:\n",
    "    print(\"Predicted: Scotiabank Momentum Visa Infinite\")\n",
    "elif num ==9:\n",
    "    print(\"Predicted: Scotiabank SCENE Visa\")\n",
    "elif num ==10:\n",
    "    print(\"Predicted: True Line Gold Mastercard\")\n",
    "elif num ==11:\n",
    "    print(\"Predicted: True Line Mastercard\")\n",
    "elif num ==12:\n",
    "    print(\"Predicted: American Express Blue Sky\")\n",
    "elif num ==13:\n",
    "    print(\"Predicted: Not Enough\")\n",
    "\n",
    "print()\n",
    "    \n",
    "print(\"Ground Truth: \")\n",
    "num = real\n",
    "if num ==0:\n",
    "    print(\"Predicted: American Express Cobalt\")\n",
    "elif num ==1:\n",
    "    print(\"Predicted: American Express Essential\")\n",
    "elif num ==2:\n",
    "    print(\"Predicted: American Express Marriot Bonvoy\")\n",
    "elif num ==3:\n",
    "    print(\"Predicted: American Express Simply Cash\")\n",
    "elif num ==4:\n",
    "    print(\"Predicted: American Express Simply Cash Preferred\")\n",
    "elif num ==5:\n",
    "    print(\"Predicted: Meridian Visa Infinite\")\n",
    "elif num ==6:\n",
    "    print(\"Predicted: PC Financial Mastercard\")\n",
    "elif num ==7:\n",
    "    print(\"Predicted: Scotiabank Momentum No-Fee Visa\")\n",
    "elif num ==8:\n",
    "    print(\"Predicted: Scotiabank Momentum Visa Infinite\")\n",
    "elif num ==9:\n",
    "    print(\"Predicted: Scotiabank SCENE Visa\")\n",
    "elif num ==10:\n",
    "    print(\"Predicted: True Line Gold Mastercard\")\n",
    "elif num ==11:\n",
    "    print(\"Predicted: True Line Mastercard\")\n",
    "elif num ==12:\n",
    "    print(\"Predicted: American Express Blue Sky\")\n",
    "elif num ==13:\n",
    "    print(\"Predicted: Not Enough\")"
   ]
  }
 ],
 "metadata": {
  "kernelspec": {
   "display_name": "Python 3",
   "language": "python",
   "name": "python3"
  },
  "language_info": {
   "codemirror_mode": {
    "name": "ipython",
    "version": 3
   },
   "file_extension": ".py",
   "mimetype": "text/x-python",
   "name": "python",
   "nbconvert_exporter": "python",
   "pygments_lexer": "ipython3",
   "version": "3.6.6"
  }
 },
 "nbformat": 4,
 "nbformat_minor": 2
}
