{
  "nbformat": 4,
  "nbformat_minor": 0,
  "metadata": {
    "colab": {
      "name": "Version1.2",
      "version": "0.3.2",
      "provenance": [],
      "collapsed_sections": []
    },
    "kernelspec": {
      "name": "python3",
      "display_name": "Python 3"
    }
  },
  "cells": [
    {
      "cell_type": "code",
      "metadata": {
        "id": "hlbn6oV7fJtG",
        "colab_type": "code",
        "colab": {}
      },
      "source": [
        "import pandas as pd\n",
        "import numpy as np\n",
        "import requests\n",
        "import re\n",
        "import seaborn\n",
        "import matplotlib.pyplot as plt\n",
        "import tensorflow as tf\n",
        "from __future__ import absolute_import\n",
        "from __future__ import division\n",
        "from __future__ import print_function\n",
        "import keras\n",
        "from keras.layers.advanced_activations import LeakyReLU\n",
        "from keras.layers import Activation, Dense, Input, Dropout\n",
        "from keras.layers import Conv2D, Flatten\n",
        "from keras.models import Model\n",
        "from keras import backend as K\n",
        "import os, cv2\n",
        "import tensorflow as tf\n",
        "from keras import losses\n",
        "from keras.optimizers import SGD,RMSprop,adam\n",
        "from keras.layers import Reshape, Conv2DTranspose, BatchNormalization\n",
        "from IPython.display import clear_output\n",
        "from sklearn.utils import shuffle\n",
        "from keras.utils import np_utils\n",
        "from keras.models import Sequential\n",
        "from keras.utils import np_utils\n",
        "from keras.layers.convolutional import Convolution2D, MaxPooling2D\n",
        "from keras.layers import Activation, Flatten, Dense, Dropout\n",
        "from keras.optimizers import SGD\n",
        "from keras.layers.normalization import BatchNormalization\n",
        "import keras \n",
        "import tensorflow as tf\n",
        "\n",
        "\n",
        "\n"
      ],
      "execution_count": 0,
      "outputs": []
    },
    {
      "cell_type": "markdown",
      "metadata": {
        "id": "wL5VIC6qfadW",
        "colab_type": "text"
      },
      "source": [
        ""
      ]
    },
    {
      "cell_type": "code",
      "metadata": {
        "id": "DmZC2Iicfa_x",
        "colab_type": "code",
        "outputId": "feae7d9b-81c3-424a-8b2b-534051df8666",
        "colab": {
          "base_uri": "https://localhost:8080/",
          "height": 212
        }
      },
      "source": [
        "dataset = pd.read_csv('Cleaned_Dataset.csv')\n",
        "print(dataset.shape)\n",
        "dataset.head()"
      ],
      "execution_count": 49,
      "outputs": [
        {
          "output_type": "stream",
          "text": [
            "(223, 10)\n"
          ],
          "name": "stdout"
        },
        {
          "output_type": "execute_result",
          "data": {
            "text/html": [
              "<div>\n",
              "<style scoped>\n",
              "    .dataframe tbody tr th:only-of-type {\n",
              "        vertical-align: middle;\n",
              "    }\n",
              "\n",
              "    .dataframe tbody tr th {\n",
              "        vertical-align: top;\n",
              "    }\n",
              "\n",
              "    .dataframe thead th {\n",
              "        text-align: right;\n",
              "    }\n",
              "</style>\n",
              "<table border=\"1\" class=\"dataframe\">\n",
              "  <thead>\n",
              "    <tr style=\"text-align: right;\">\n",
              "      <th></th>\n",
              "      <th>0</th>\n",
              "      <th>5</th>\n",
              "      <th>1</th>\n",
              "      <th>4</th>\n",
              "      <th>0.1</th>\n",
              "      <th>2</th>\n",
              "      <th>5.1</th>\n",
              "      <th>3</th>\n",
              "      <th>2.1</th>\n",
              "      <th>4.1</th>\n",
              "    </tr>\n",
              "  </thead>\n",
              "  <tbody>\n",
              "    <tr>\n",
              "      <th>0</th>\n",
              "      <td>0</td>\n",
              "      <td>3</td>\n",
              "      <td>1</td>\n",
              "      <td>4</td>\n",
              "      <td>0</td>\n",
              "      <td>0</td>\n",
              "      <td>0</td>\n",
              "      <td>3</td>\n",
              "      <td>2</td>\n",
              "      <td>4</td>\n",
              "    </tr>\n",
              "    <tr>\n",
              "      <th>1</th>\n",
              "      <td>1</td>\n",
              "      <td>2</td>\n",
              "      <td>0</td>\n",
              "      <td>0</td>\n",
              "      <td>3</td>\n",
              "      <td>0</td>\n",
              "      <td>2</td>\n",
              "      <td>0</td>\n",
              "      <td>0</td>\n",
              "      <td>9</td>\n",
              "    </tr>\n",
              "    <tr>\n",
              "      <th>2</th>\n",
              "      <td>1</td>\n",
              "      <td>3</td>\n",
              "      <td>1</td>\n",
              "      <td>0</td>\n",
              "      <td>4</td>\n",
              "      <td>0</td>\n",
              "      <td>2</td>\n",
              "      <td>0</td>\n",
              "      <td>0</td>\n",
              "      <td>2</td>\n",
              "    </tr>\n",
              "    <tr>\n",
              "      <th>3</th>\n",
              "      <td>1</td>\n",
              "      <td>2</td>\n",
              "      <td>1</td>\n",
              "      <td>0</td>\n",
              "      <td>2</td>\n",
              "      <td>0</td>\n",
              "      <td>2</td>\n",
              "      <td>0</td>\n",
              "      <td>0</td>\n",
              "      <td>0</td>\n",
              "    </tr>\n",
              "    <tr>\n",
              "      <th>4</th>\n",
              "      <td>1</td>\n",
              "      <td>4</td>\n",
              "      <td>1</td>\n",
              "      <td>0</td>\n",
              "      <td>4</td>\n",
              "      <td>0</td>\n",
              "      <td>2</td>\n",
              "      <td>0</td>\n",
              "      <td>0</td>\n",
              "      <td>2</td>\n",
              "    </tr>\n",
              "  </tbody>\n",
              "</table>\n",
              "</div>"
            ],
            "text/plain": [
              "   0  5  1  4  0.1  2  5.1  3  2.1  4.1\n",
              "0  0  3  1  4    0  0    0  3    2    4\n",
              "1  1  2  0  0    3  0    2  0    0    9\n",
              "2  1  3  1  0    4  0    2  0    0    2\n",
              "3  1  2  1  0    2  0    2  0    0    0\n",
              "4  1  4  1  0    4  0    2  0    0    2"
            ]
          },
          "metadata": {
            "tags": []
          },
          "execution_count": 49
        }
      ]
    },
    {
      "cell_type": "code",
      "metadata": {
        "id": "gKRwjM6dfcd5",
        "colab_type": "code",
        "outputId": "0817dea4-91c3-4128-8f4d-f02efae49543",
        "colab": {
          "base_uri": "https://localhost:8080/",
          "height": 138
        }
      },
      "source": [
        "from sklearn.preprocessing import normalize\n",
        "FEATURES = dataset.columns[0:9]\n",
        "X_data = dataset[FEATURES].as_matrix()\n",
        "X_data = normalize(X_data)\n",
        "print(X_data.shape)\n",
        "PLACE = dataset.columns[9]\n",
        "target = dataset[PLACE].as_matrix()\n",
        "print(target.shape)\n",
        "X_data,target = shuffle(X_data,target, random_state=2)"
      ],
      "execution_count": 50,
      "outputs": [
        {
          "output_type": "stream",
          "text": [
            "(223, 9)\n",
            "(223,)\n"
          ],
          "name": "stdout"
        },
        {
          "output_type": "stream",
          "text": [
            "/usr/local/lib/python3.6/dist-packages/ipykernel_launcher.py:3: FutureWarning: Method .as_matrix will be removed in a future version. Use .values instead.\n",
            "  This is separate from the ipykernel package so we can avoid doing imports until\n",
            "/usr/local/lib/python3.6/dist-packages/ipykernel_launcher.py:7: FutureWarning: Method .as_matrix will be removed in a future version. Use .values instead.\n",
            "  import sys\n"
          ],
          "name": "stderr"
        }
      ]
    },
    {
      "cell_type": "code",
      "metadata": {
        "id": "fKgeVNQKfiZX",
        "colab_type": "code",
        "outputId": "a3bb54fa-66b6-4f6c-b3cc-228a70cd26e7",
        "colab": {
          "base_uri": "https://localhost:8080/",
          "height": 134
        }
      },
      "source": [
        "from sklearn.preprocessing import normalize\n",
        "num_classes = 14\n",
        "num_of_samples = X_data.shape[0]\n",
        "label = np.zeros((num_of_samples,num_classes),dtype='int64')\n",
        "print(label)"
      ],
      "execution_count": 63,
      "outputs": [
        {
          "output_type": "stream",
          "text": [
            "[[0 0 0 ... 0 0 0]\n",
            " [0 0 0 ... 0 0 0]\n",
            " [0 0 0 ... 0 0 0]\n",
            " ...\n",
            " [0 0 0 ... 0 0 0]\n",
            " [0 0 0 ... 0 0 0]\n",
            " [0 0 0 ... 0 0 0]]\n"
          ],
          "name": "stdout"
        }
      ]
    },
    {
      "cell_type": "code",
      "metadata": {
        "id": "Q8hPXfBUfk82",
        "colab_type": "code",
        "outputId": "c8ab6603-f808-4489-83ed-bf0ebbadc88a",
        "colab": {
          "base_uri": "https://localhost:8080/",
          "height": 34
        }
      },
      "source": [
        "for i in range(0,223):\n",
        "    if target[i]== 0:\n",
        "        label[i,0]= 1\n",
        "    elif target[i] == 1:\n",
        "        label[i,1] = 1\n",
        "    elif target[i] == 2:\n",
        "        label[i,2] = 1\n",
        "    elif target[i] == 3:\n",
        "        label[i,3] = 1\n",
        "    elif target[i] == 4:\n",
        "        label[i,4] = 1\n",
        "    elif target[i] == 5:\n",
        "        label[i,5] = 1\n",
        "    elif target[i] == 6:\n",
        "        label[i,6] = 1\n",
        "    elif target[i] == 7:\n",
        "        label[i,7] = 1\n",
        "    elif target[i] == 8:\n",
        "        label[i,8] = 1\n",
        "    elif target[i] == 9:\n",
        "        label[i,9] = 1\n",
        "    elif target[i] == 10:\n",
        "        label[i,10] = 1\n",
        "    elif target[i] == 11:\n",
        "        label[i,11] = 1\n",
        "    elif target[i] == 12:\n",
        "        label[i,12] = 1\n",
        "    elif target[i] == 13:\n",
        "        label[i,12] = 1\n",
        "    else:\n",
        "        label[i,13] = 1\n",
        "Y = label\n",
        "print(Y.shape)"
      ],
      "execution_count": 62,
      "outputs": [
        {
          "output_type": "stream",
          "text": [
            "(223, 14)\n"
          ],
          "name": "stdout"
        }
      ]
    },
    {
      "cell_type": "code",
      "metadata": {
        "id": "nvFFMb-gfmQ_",
        "colab_type": "code",
        "outputId": "bb42446b-7f16-4e9b-fcbb-a9d4989f4245",
        "colab": {
          "base_uri": "https://localhost:8080/",
          "height": 34
        }
      },
      "source": [
        "from sklearn.model_selection import train_test_split\n",
        "X_train, X_test, y_train, y_test = train_test_split(X_data, Y, test_size=0.1, random_state=1)\n",
        "print(y_test[20])"
      ],
      "execution_count": 64,
      "outputs": [
        {
          "output_type": "stream",
          "text": [
            "[0 0 0 0 0 0 0 0 0 1 0 0 0 0]\n"
          ],
          "name": "stdout"
        }
      ]
    },
    {
      "cell_type": "code",
      "metadata": {
        "id": "ZFBCqNPgfoWi",
        "colab_type": "code",
        "outputId": "90810922-66ef-40bc-acb6-f1dcb4815438",
        "colab": {
          "base_uri": "https://localhost:8080/",
          "height": 457
        }
      },
      "source": [
        "from keras.layers import LeakyReLU\n",
        "model = Sequential()\n",
        "model.add(Dense(1024, activation = LeakyReLU(alpha=0.1), input_shape=(9, )))\n",
        "# model.add(BatchNormalization())\n",
        "model.add(Dropout(0.5))\n",
        "model.add(Dense(512, activation = LeakyReLU(alpha=0.1)))\n",
        "# model.add(BatchNormalization())\n",
        "model.add(Dropout(0.5))\n",
        "model.add(Dense(128, activation = LeakyReLU(alpha=0.1)))\n",
        "# model.add(BatchNormalization())\n",
        "model.add(Dropout(0.5))\n",
        "model.add(Dense(14, activation = LeakyReLU(alpha=0.1)))\n",
        "model.add(Activation(\"softmax\"))\n",
        "model.summary()"
      ],
      "execution_count": 83,
      "outputs": [
        {
          "output_type": "stream",
          "text": [
            "_________________________________________________________________\n",
            "Layer (type)                 Output Shape              Param #   \n",
            "=================================================================\n",
            "dense_45 (Dense)             (None, 1024)              10240     \n",
            "_________________________________________________________________\n",
            "dropout_19 (Dropout)         (None, 1024)              0         \n",
            "_________________________________________________________________\n",
            "dense_46 (Dense)             (None, 512)               524800    \n",
            "_________________________________________________________________\n",
            "dropout_20 (Dropout)         (None, 512)               0         \n",
            "_________________________________________________________________\n",
            "dense_47 (Dense)             (None, 128)               65664     \n",
            "_________________________________________________________________\n",
            "dropout_21 (Dropout)         (None, 128)               0         \n",
            "_________________________________________________________________\n",
            "dense_48 (Dense)             (None, 14)                1806      \n",
            "_________________________________________________________________\n",
            "activation_12 (Activation)   (None, 14)                0         \n",
            "=================================================================\n",
            "Total params: 602,510\n",
            "Trainable params: 602,510\n",
            "Non-trainable params: 0\n",
            "_________________________________________________________________\n"
          ],
          "name": "stdout"
        },
        {
          "output_type": "stream",
          "text": [
            "/usr/local/lib/python3.6/dist-packages/keras/activations.py:211: UserWarning: Do not pass a layer instance (such as LeakyReLU) as the activation argument of another layer. Instead, advanced activation layers should be used just like any other layer in a model.\n",
            "  identifier=identifier.__class__.__name__))\n"
          ],
          "name": "stderr"
        }
      ]
    },
    {
      "cell_type": "code",
      "metadata": {
        "id": "ljdmT7cvfqsb",
        "colab_type": "code",
        "colab": {}
      },
      "source": [
        "class PlotLosses(keras.callbacks.Callback):\n",
        "    def on_train_begin(self, logs={}):\n",
        "        self.i = 0\n",
        "        self.x = []\n",
        "        self.losses = []\n",
        "        self.val_losses = []\n",
        "        self.fig = plt.figure()\n",
        "        self.logs = []\n",
        "    def on_epoch_end(self, epoch, logs={}):\n",
        "        \n",
        "        self.logs.append(logs)\n",
        "        self.x.append(self.i)\n",
        "        self.losses.append(logs.get('loss'))\n",
        "        self.val_losses.append(logs.get('val_loss'))\n",
        "        self.i += 1\n",
        "        plt.savefig('figure.png', dpi = 300)\n",
        "        clear_output(wait=True)\n",
        "        plt.plot(self.x, self.losses, label=\"loss\")\n",
        "        plt.plot(self.x, self.val_losses, label=\"val_loss\")\n",
        "        plt.legend()\n",
        "        plt.show();\n",
        "        \n",
        "        \n",
        "plot_losses = PlotLosses()"
      ],
      "execution_count": 0,
      "outputs": []
    },
    {
      "cell_type": "code",
      "metadata": {
        "id": "4WNxPq8iftsb",
        "colab_type": "code",
        "outputId": "50fbdad6-4449-4cb0-fbbd-501121686268",
        "colab": {
          "base_uri": "https://localhost:8080/",
          "height": 269
        }
      },
      "source": [
        "training_epochs = 225\n",
        "# Need help on fixing the training. The losses aren't changing as the learning rate goes up. Really weird. \n",
        "# rmsprop = RMSprop(lr=1000, rho=0.9, epsilon=None, decay=0.1)\n",
        "sgd = SGD(lr=0.005, decay=1e-6, momentum=0.5, nesterov=True)\n",
        "model.compile(optimizer=sgd, loss='categorical_crossentropy', metrics=['accuracy'])\n",
        "hist = model.fit(X_train, y_train, batch_size=1, nb_epoch=training_epochs, verbose=1, validation_data=(X_test, y_test),  callbacks=[plot_losses],)"
      ],
      "execution_count": 85,
      "outputs": [
        {
          "output_type": "display_data",
          "data": {
            "image/png": "[encoded data removed]",
            "text/plain": [
              "<Figure size 432x288 with 1 Axes>"
            ]
          },
          "metadata": {
            "tags": []
          }
        }
      ]
    },
    {
      "cell_type": "code",
      "metadata": {
        "id": "eelxczpAy09E",
        "colab_type": "code",
        "colab": {
          "base_uri": "https://localhost:8080/",
          "height": 320
        },
        "outputId": "98b8c2d4-8d9c-4b05-b046-da8a82e1584a"
      },
      "source": [
        "fname = 'RecModel_v1.h5'\n",
        "model.save(fname,overwrite=True)"
      ],
      "execution_count": 97,
      "outputs": [
        {
          "output_type": "error",
          "ename": "AttributeError",
          "evalue": "ignored",
          "traceback": [
            "\u001b[0;31m---------------------------------------------------------------------------\u001b[0m",
            "\u001b[0;31mAttributeError\u001b[0m                            Traceback (most recent call last)",
            "\u001b[0;32m<ipython-input-97-fedb270798f7>\u001b[0m in \u001b[0;36m<module>\u001b[0;34m()\u001b[0m\n\u001b[1;32m      1\u001b[0m \u001b[0mfname\u001b[0m \u001b[0;34m=\u001b[0m \u001b[0;34m'RecModel_v1.h5'\u001b[0m\u001b[0;34m\u001b[0m\u001b[0;34m\u001b[0m\u001b[0m\n\u001b[0;32m----> 2\u001b[0;31m \u001b[0mmodel\u001b[0m\u001b[0;34m.\u001b[0m\u001b[0msave\u001b[0m\u001b[0;34m(\u001b[0m\u001b[0mfname\u001b[0m\u001b[0;34m,\u001b[0m\u001b[0moverwrite\u001b[0m\u001b[0;34m=\u001b[0m\u001b[0;32mTrue\u001b[0m\u001b[0;34m)\u001b[0m\u001b[0;34m\u001b[0m\u001b[0;34m\u001b[0m\u001b[0m\n\u001b[0m",
            "\u001b[0;32m/usr/local/lib/python3.6/dist-packages/keras/engine/network.py\u001b[0m in \u001b[0;36msave\u001b[0;34m(self, filepath, overwrite, include_optimizer)\u001b[0m\n\u001b[1;32m   1088\u001b[0m             \u001b[0;32mraise\u001b[0m \u001b[0mNotImplementedError\u001b[0m\u001b[0;34m\u001b[0m\u001b[0;34m\u001b[0m\u001b[0m\n\u001b[1;32m   1089\u001b[0m         \u001b[0;32mfrom\u001b[0m \u001b[0;34m.\u001b[0m\u001b[0;34m.\u001b[0m\u001b[0mmodels\u001b[0m \u001b[0;32mimport\u001b[0m \u001b[0msave_model\u001b[0m\u001b[0;34m\u001b[0m\u001b[0;34m\u001b[0m\u001b[0m\n\u001b[0;32m-> 1090\u001b[0;31m         \u001b[0msave_model\u001b[0m\u001b[0;34m(\u001b[0m\u001b[0mself\u001b[0m\u001b[0;34m,\u001b[0m \u001b[0mfilepath\u001b[0m\u001b[0;34m,\u001b[0m \u001b[0moverwrite\u001b[0m\u001b[0;34m,\u001b[0m \u001b[0minclude_optimizer\u001b[0m\u001b[0;34m)\u001b[0m\u001b[0;34m\u001b[0m\u001b[0;34m\u001b[0m\u001b[0m\n\u001b[0m\u001b[1;32m   1091\u001b[0m \u001b[0;34m\u001b[0m\u001b[0m\n\u001b[1;32m   1092\u001b[0m     \u001b[0;32mdef\u001b[0m \u001b[0msave_weights\u001b[0m\u001b[0;34m(\u001b[0m\u001b[0mself\u001b[0m\u001b[0;34m,\u001b[0m \u001b[0mfilepath\u001b[0m\u001b[0;34m,\u001b[0m \u001b[0moverwrite\u001b[0m\u001b[0;34m=\u001b[0m\u001b[0;32mTrue\u001b[0m\u001b[0;34m)\u001b[0m\u001b[0;34m:\u001b[0m\u001b[0;34m\u001b[0m\u001b[0;34m\u001b[0m\u001b[0m\n",
            "\u001b[0;32m/usr/local/lib/python3.6/dist-packages/keras/engine/saving.py\u001b[0m in \u001b[0;36msave_model\u001b[0;34m(model, filepath, overwrite, include_optimizer)\u001b[0m\n\u001b[1;32m    380\u001b[0m \u001b[0;34m\u001b[0m\u001b[0m\n\u001b[1;32m    381\u001b[0m     \u001b[0;32mtry\u001b[0m\u001b[0;34m:\u001b[0m\u001b[0;34m\u001b[0m\u001b[0;34m\u001b[0m\u001b[0m\n\u001b[0;32m--> 382\u001b[0;31m         \u001b[0m_serialize_model\u001b[0m\u001b[0;34m(\u001b[0m\u001b[0mmodel\u001b[0m\u001b[0;34m,\u001b[0m \u001b[0mf\u001b[0m\u001b[0;34m,\u001b[0m \u001b[0minclude_optimizer\u001b[0m\u001b[0;34m)\u001b[0m\u001b[0;34m\u001b[0m\u001b[0;34m\u001b[0m\u001b[0m\n\u001b[0m\u001b[1;32m    383\u001b[0m     \u001b[0;32mfinally\u001b[0m\u001b[0;34m:\u001b[0m\u001b[0;34m\u001b[0m\u001b[0;34m\u001b[0m\u001b[0m\n\u001b[1;32m    384\u001b[0m         \u001b[0;32mif\u001b[0m \u001b[0mopened_new_file\u001b[0m\u001b[0;34m:\u001b[0m\u001b[0;34m\u001b[0m\u001b[0;34m\u001b[0m\u001b[0m\n",
            "\u001b[0;32m/usr/local/lib/python3.6/dist-packages/keras/engine/saving.py\u001b[0m in \u001b[0;36m_serialize_model\u001b[0;34m(model, f, include_optimizer)\u001b[0m\n\u001b[1;32m     81\u001b[0m     \u001b[0mmodel_config\u001b[0m \u001b[0;34m=\u001b[0m \u001b[0;34m{\u001b[0m\u001b[0;34m}\u001b[0m\u001b[0;34m\u001b[0m\u001b[0;34m\u001b[0m\u001b[0m\n\u001b[1;32m     82\u001b[0m     \u001b[0mmodel_config\u001b[0m\u001b[0;34m[\u001b[0m\u001b[0;34m'class_name'\u001b[0m\u001b[0;34m]\u001b[0m \u001b[0;34m=\u001b[0m \u001b[0mmodel\u001b[0m\u001b[0;34m.\u001b[0m\u001b[0m__class__\u001b[0m\u001b[0;34m.\u001b[0m\u001b[0m__name__\u001b[0m\u001b[0;34m\u001b[0m\u001b[0;34m\u001b[0m\u001b[0m\n\u001b[0;32m---> 83\u001b[0;31m     \u001b[0mmodel_config\u001b[0m\u001b[0;34m[\u001b[0m\u001b[0;34m'config'\u001b[0m\u001b[0;34m]\u001b[0m \u001b[0;34m=\u001b[0m \u001b[0mmodel\u001b[0m\u001b[0;34m.\u001b[0m\u001b[0mget_config\u001b[0m\u001b[0;34m(\u001b[0m\u001b[0;34m)\u001b[0m\u001b[0;34m\u001b[0m\u001b[0;34m\u001b[0m\u001b[0m\n\u001b[0m\u001b[1;32m     84\u001b[0m     \u001b[0mmodel_config\u001b[0m \u001b[0;34m=\u001b[0m \u001b[0mjson\u001b[0m\u001b[0;34m.\u001b[0m\u001b[0mdumps\u001b[0m\u001b[0;34m(\u001b[0m\u001b[0mmodel_config\u001b[0m\u001b[0;34m,\u001b[0m \u001b[0mdefault\u001b[0m\u001b[0;34m=\u001b[0m\u001b[0mget_json_type\u001b[0m\u001b[0;34m)\u001b[0m\u001b[0;34m\u001b[0m\u001b[0;34m\u001b[0m\u001b[0m\n\u001b[1;32m     85\u001b[0m     \u001b[0mmodel_config\u001b[0m \u001b[0;34m=\u001b[0m \u001b[0mmodel_config\u001b[0m\u001b[0;34m.\u001b[0m\u001b[0mencode\u001b[0m\u001b[0;34m(\u001b[0m\u001b[0;34m'utf-8'\u001b[0m\u001b[0;34m)\u001b[0m\u001b[0;34m\u001b[0m\u001b[0;34m\u001b[0m\u001b[0m\n",
            "\u001b[0;32m/usr/local/lib/python3.6/dist-packages/keras/engine/sequential.py\u001b[0m in \u001b[0;36mget_config\u001b[0;34m(self)\u001b[0m\n\u001b[1;32m    276\u001b[0m             layer_configs.append({\n\u001b[1;32m    277\u001b[0m                 \u001b[0;34m'class_name'\u001b[0m\u001b[0;34m:\u001b[0m \u001b[0mlayer\u001b[0m\u001b[0;34m.\u001b[0m\u001b[0m__class__\u001b[0m\u001b[0;34m.\u001b[0m\u001b[0m__name__\u001b[0m\u001b[0;34m,\u001b[0m\u001b[0;34m\u001b[0m\u001b[0;34m\u001b[0m\u001b[0m\n\u001b[0;32m--> 278\u001b[0;31m                 \u001b[0;34m'config'\u001b[0m\u001b[0;34m:\u001b[0m \u001b[0mlayer\u001b[0m\u001b[0;34m.\u001b[0m\u001b[0mget_config\u001b[0m\u001b[0;34m(\u001b[0m\u001b[0;34m)\u001b[0m\u001b[0;34m\u001b[0m\u001b[0;34m\u001b[0m\u001b[0m\n\u001b[0m\u001b[1;32m    279\u001b[0m             })\n\u001b[1;32m    280\u001b[0m         config = {\n",
            "\u001b[0;32m/usr/local/lib/python3.6/dist-packages/keras/layers/core.py\u001b[0m in \u001b[0;36mget_config\u001b[0;34m(self)\u001b[0m\n\u001b[1;32m    894\u001b[0m         config = {\n\u001b[1;32m    895\u001b[0m             \u001b[0;34m'units'\u001b[0m\u001b[0;34m:\u001b[0m \u001b[0mself\u001b[0m\u001b[0;34m.\u001b[0m\u001b[0munits\u001b[0m\u001b[0;34m,\u001b[0m\u001b[0;34m\u001b[0m\u001b[0;34m\u001b[0m\u001b[0m\n\u001b[0;32m--> 896\u001b[0;31m             \u001b[0;34m'activation'\u001b[0m\u001b[0;34m:\u001b[0m \u001b[0mactivations\u001b[0m\u001b[0;34m.\u001b[0m\u001b[0mserialize\u001b[0m\u001b[0;34m(\u001b[0m\u001b[0mself\u001b[0m\u001b[0;34m.\u001b[0m\u001b[0mactivation\u001b[0m\u001b[0;34m)\u001b[0m\u001b[0;34m,\u001b[0m\u001b[0;34m\u001b[0m\u001b[0;34m\u001b[0m\u001b[0m\n\u001b[0m\u001b[1;32m    897\u001b[0m             \u001b[0;34m'use_bias'\u001b[0m\u001b[0;34m:\u001b[0m \u001b[0mself\u001b[0m\u001b[0;34m.\u001b[0m\u001b[0muse_bias\u001b[0m\u001b[0;34m,\u001b[0m\u001b[0;34m\u001b[0m\u001b[0;34m\u001b[0m\u001b[0m\n\u001b[1;32m    898\u001b[0m             \u001b[0;34m'kernel_initializer'\u001b[0m\u001b[0;34m:\u001b[0m \u001b[0minitializers\u001b[0m\u001b[0;34m.\u001b[0m\u001b[0mserialize\u001b[0m\u001b[0;34m(\u001b[0m\u001b[0mself\u001b[0m\u001b[0;34m.\u001b[0m\u001b[0mkernel_initializer\u001b[0m\u001b[0;34m)\u001b[0m\u001b[0;34m,\u001b[0m\u001b[0;34m\u001b[0m\u001b[0;34m\u001b[0m\u001b[0m\n",
            "\u001b[0;32m/usr/local/lib/python3.6/dist-packages/keras/activations.py\u001b[0m in \u001b[0;36mserialize\u001b[0;34m(activation)\u001b[0m\n\u001b[1;32m    174\u001b[0m \u001b[0;34m\u001b[0m\u001b[0m\n\u001b[1;32m    175\u001b[0m \u001b[0;32mdef\u001b[0m \u001b[0mserialize\u001b[0m\u001b[0;34m(\u001b[0m\u001b[0mactivation\u001b[0m\u001b[0;34m)\u001b[0m\u001b[0;34m:\u001b[0m\u001b[0;34m\u001b[0m\u001b[0;34m\u001b[0m\u001b[0m\n\u001b[0;32m--> 176\u001b[0;31m     \u001b[0;32mreturn\u001b[0m \u001b[0mactivation\u001b[0m\u001b[0;34m.\u001b[0m\u001b[0m__name__\u001b[0m\u001b[0;34m\u001b[0m\u001b[0;34m\u001b[0m\u001b[0m\n\u001b[0m\u001b[1;32m    177\u001b[0m \u001b[0;34m\u001b[0m\u001b[0m\n\u001b[1;32m    178\u001b[0m \u001b[0;34m\u001b[0m\u001b[0m\n",
            "\u001b[0;31mAttributeError\u001b[0m: 'LeakyReLU' object has no attribute '__name__'"
          ]
        }
      ]
    },
    {
      "cell_type": "code",
      "metadata": {
        "id": "WICAhOLvfvgy",
        "colab_type": "code",
        "colab": {}
      },
      "source": [
        "def calculate_accuracy(predicted, actual):\n",
        "    total = len(predicted)\n",
        "    count = 0\n",
        "    for i in range (0, len(predicted)):\n",
        "        indicator = True\n",
        "        flag = True\n",
        "        for k in range(0,13):\n",
        "            if predicted[i,k] != actual [i,k]:\n",
        "                flag = False\n",
        "            if flag == False:\n",
        "                indicator = False\n",
        "            flag = True \n",
        "        if indicator != False:\n",
        "            count+=1\n",
        "        indicator = True\n",
        "    return count / total *100"
      ],
      "execution_count": 0,
      "outputs": []
    },
    {
      "cell_type": "code",
      "metadata": {
        "id": "0BfF1_jUfxaJ",
        "colab_type": "code",
        "outputId": "324dd500-ce9f-4721-b820-eef54a68e6e6",
        "colab": {
          "base_uri": "https://localhost:8080/",
          "height": 84
        }
      },
      "source": [
        "#The person we wish to check. \n",
        "test_subject = 5\n",
        "test_value = X_train [test_subject-1:test_subject, :]\n",
        "result = model.predict(test_value)\n",
        "print(result)\n",
        "num = np.argmax(result)\n",
        "real = np.argmax(y_test[test_subject-1:test_subject, :])\n",
        "print(y_test[test_subject-1:test_subject, :])"
      ],
      "execution_count": 89,
      "outputs": [
        {
          "output_type": "stream",
          "text": [
            "[[1.1887322e-02 1.9252236e-06 9.8707855e-01 5.4458542e-07 9.7242364e-06\n",
            "  2.8218603e-05 1.0971351e-06 9.9500051e-07 9.7084889e-04 1.6829075e-05\n",
            "  9.8827456e-07 7.1445197e-07 1.1977950e-06 1.1204409e-06]]\n",
            "[[0 0 1 0 0 0 0 0 0 0 0 0 0 0]]\n"
          ],
          "name": "stdout"
        }
      ]
    },
    {
      "cell_type": "code",
      "metadata": {
        "id": "q_LeH-HZfzBK",
        "colab_type": "code",
        "outputId": "1c1bf127-5a1d-4d67-c6ba-4d69e6c8db88",
        "colab": {
          "base_uri": "https://localhost:8080/",
          "height": 50
        }
      },
      "source": [
        "print( \"The accuracy is [in percent]: \")\n",
        "print(calculate_accuracy(model.predict(X_train), y_train))"
      ],
      "execution_count": 87,
      "outputs": [
        {
          "output_type": "stream",
          "text": [
            "The accuracy is [in percent]: \n",
            "0.0\n"
          ],
          "name": "stdout"
        }
      ]
    },
    {
      "cell_type": "code",
      "metadata": {
        "id": "ANVaTclgf01l",
        "colab_type": "code",
        "outputId": "51841321-083e-4439-a5c9-552dd07ed6da",
        "colab": {
          "base_uri": "https://localhost:8080/",
          "height": 101
        }
      },
      "source": [
        "print(\"Model Prediction\")\n",
        "if num ==0:\n",
        "    print(\"Predicted: American Express Cobalt\")\n",
        "elif num ==1:\n",
        "    print(\"Predicted: American Express Essential\")\n",
        "elif num ==2:\n",
        "    print(\"Predicted: American Express Marriot Bonvoy\")\n",
        "elif num ==3:\n",
        "    print(\"Predicted: American Express Simply Cash\")\n",
        "elif num ==4:\n",
        "    print(\"Predicted: American Express Simply Cash Preferred\")\n",
        "elif num ==5:\n",
        "    print(\"Predicted: Meridian Visa Infinite\")\n",
        "elif num ==6:\n",
        "    print(\"Predicted: PC Financial Mastercard\")\n",
        "elif num ==7:\n",
        "    print(\"Predicted: Scotiabank Momentum No-Fee Visa\")\n",
        "elif num ==8:\n",
        "    print(\"Predicted: Scotiabank Momentum Visa Infinite\")\n",
        "elif num ==9:\n",
        "    print(\"Predicted: Scotiabank SCENE Visa\")\n",
        "elif num ==10:\n",
        "    print(\"Predicted: True Line Gold Mastercard\")\n",
        "elif num ==11:\n",
        "    print(\"Predicted: True Line Mastercard\")\n",
        "elif num ==12:\n",
        "    print(\"Predicted: American Express Blue Sky\")\n",
        "elif num ==13:\n",
        "    print(\"Predicted: Not Enough\")\n",
        "\n",
        "print()\n",
        "    \n",
        "print(\"Ground Truth: \")\n",
        "num = real\n",
        "if num ==0:\n",
        "    print(\"Predicted: American Express Cobalt\")\n",
        "elif num ==1:\n",
        "    print(\"Predicted: American Express Essential\")\n",
        "elif num ==2:\n",
        "    print(\"Predicted: American Express Marriot Bonvoy\")\n",
        "elif num ==3:\n",
        "    print(\"Predicted: American Express Simply Cash\")\n",
        "elif num ==4:\n",
        "    print(\"Predicted: American Express Simply Cash Preferred\")\n",
        "elif num ==5:\n",
        "    print(\"Predicted: Meridian Visa Infinite\")\n",
        "elif num ==6:\n",
        "    print(\"Predicted: PC Financial Mastercard\")\n",
        "elif num ==7:\n",
        "    print(\"Predicted: Scotiabank Momentum No-Fee Visa\")\n",
        "elif num ==8:\n",
        "    print(\"Predicted: Scotiabank Momentum Visa Infinite\")\n",
        "elif num ==9:\n",
        "    print(\"Predicted: Scotiabank SCENE Visa\")\n",
        "elif num ==10:\n",
        "    print(\"Predicted: True Line Gold Mastercard\")\n",
        "elif num ==11:\n",
        "    print(\"Predicted: True Line Mastercard\")\n",
        "elif num ==12:\n",
        "    print(\"Predicted: American Express Blue Sky\")\n",
        "elif num ==13:\n",
        "    print(\"Predicted: Not Enough\")"
      ],
      "execution_count": 90,
      "outputs": [
        {
          "output_type": "stream",
          "text": [
            "Model Prediction\n",
            "Predicted: American Express Marriot Bonvoy\n",
            "\n",
            "Ground Truth: \n",
            "Predicted: American Express Marriot Bonvoy\n"
          ],
          "name": "stdout"
        }
      ]
    }
  ]
}