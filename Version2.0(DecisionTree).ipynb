{
 "cells": [
  {
   "cell_type": "markdown",
   "metadata": {},
   "source": [
    "# Version 2.0 RecModel Decision Tree Classification  "
   ]
  },
  {
   "cell_type": "markdown",
   "metadata": {},
   "source": [
    "Import the Libs needed for the script."
   ]
  },
  {
   "cell_type": "code",
   "execution_count": 15,
   "metadata": {},
   "outputs": [],
   "source": [
    "import pandas as pd\n",
    "import numpy as np\n",
    "import requests\n",
    "import re\n",
    "import seaborn\n",
    "import matplotlib.pyplot as plt\n",
    "import tensorflow as tf\n",
    "from __future__ import absolute_import\n",
    "from __future__ import division\n",
    "from __future__ import print_function\n",
    "from sklearn.metrics import confusion_matrix\n",
    "from sklearn.model_selection import cross_val_predict\n",
    "from sklearn.ensemble import RandomForestClassifier\n",
    "from sklearn.tree import DecisionTreeClassifier"
   ]
  },
  {
   "cell_type": "markdown",
   "metadata": {},
   "source": [
    "# Read Clean Dataset\n",
    "Read the clean data after running the Cleaning_Data.py script to fill missing data and scalerize the features. This makes it easy to work with and make data discrete."
   ]
  },
  {
   "cell_type": "code",
   "execution_count": 4,
   "metadata": {},
   "outputs": [
    {
     "name": "stdout",
     "output_type": "stream",
     "text": [
      "(223, 10)\n"
     ]
    },
    {
     "data": {
      "text/html": [
       "<div>\n",
       "<style scoped>\n",
       "    .dataframe tbody tr th:only-of-type {\n",
       "        vertical-align: middle;\n",
       "    }\n",
       "\n",
       "    .dataframe tbody tr th {\n",
       "        vertical-align: top;\n",
       "    }\n",
       "\n",
       "    .dataframe thead th {\n",
       "        text-align: right;\n",
       "    }\n",
       "</style>\n",
       "<table border=\"1\" class=\"dataframe\">\n",
       "  <thead>\n",
       "    <tr style=\"text-align: right;\">\n",
       "      <th></th>\n",
       "      <th>0</th>\n",
       "      <th>5</th>\n",
       "      <th>1</th>\n",
       "      <th>4</th>\n",
       "      <th>0.1</th>\n",
       "      <th>2</th>\n",
       "      <th>5.1</th>\n",
       "      <th>3</th>\n",
       "      <th>2.1</th>\n",
       "      <th>4.1</th>\n",
       "    </tr>\n",
       "  </thead>\n",
       "  <tbody>\n",
       "    <tr>\n",
       "      <th>0</th>\n",
       "      <td>0</td>\n",
       "      <td>3</td>\n",
       "      <td>1</td>\n",
       "      <td>4</td>\n",
       "      <td>0</td>\n",
       "      <td>0</td>\n",
       "      <td>0</td>\n",
       "      <td>3</td>\n",
       "      <td>2</td>\n",
       "      <td>4</td>\n",
       "    </tr>\n",
       "    <tr>\n",
       "      <th>1</th>\n",
       "      <td>1</td>\n",
       "      <td>2</td>\n",
       "      <td>0</td>\n",
       "      <td>0</td>\n",
       "      <td>3</td>\n",
       "      <td>0</td>\n",
       "      <td>2</td>\n",
       "      <td>0</td>\n",
       "      <td>0</td>\n",
       "      <td>9</td>\n",
       "    </tr>\n",
       "    <tr>\n",
       "      <th>2</th>\n",
       "      <td>1</td>\n",
       "      <td>3</td>\n",
       "      <td>1</td>\n",
       "      <td>0</td>\n",
       "      <td>4</td>\n",
       "      <td>0</td>\n",
       "      <td>2</td>\n",
       "      <td>0</td>\n",
       "      <td>0</td>\n",
       "      <td>2</td>\n",
       "    </tr>\n",
       "    <tr>\n",
       "      <th>3</th>\n",
       "      <td>1</td>\n",
       "      <td>2</td>\n",
       "      <td>1</td>\n",
       "      <td>0</td>\n",
       "      <td>2</td>\n",
       "      <td>0</td>\n",
       "      <td>2</td>\n",
       "      <td>0</td>\n",
       "      <td>0</td>\n",
       "      <td>0</td>\n",
       "    </tr>\n",
       "    <tr>\n",
       "      <th>4</th>\n",
       "      <td>1</td>\n",
       "      <td>4</td>\n",
       "      <td>1</td>\n",
       "      <td>0</td>\n",
       "      <td>4</td>\n",
       "      <td>0</td>\n",
       "      <td>2</td>\n",
       "      <td>0</td>\n",
       "      <td>0</td>\n",
       "      <td>2</td>\n",
       "    </tr>\n",
       "  </tbody>\n",
       "</table>\n",
       "</div>"
      ],
      "text/plain": [
       "   0  5  1  4  0.1  2  5.1  3  2.1  4.1\n",
       "0  0  3  1  4    0  0    0  3    2    4\n",
       "1  1  2  0  0    3  0    2  0    0    9\n",
       "2  1  3  1  0    4  0    2  0    0    2\n",
       "3  1  2  1  0    2  0    2  0    0    0\n",
       "4  1  4  1  0    4  0    2  0    0    2"
      ]
     },
     "execution_count": 4,
     "metadata": {},
     "output_type": "execute_result"
    }
   ],
   "source": [
    "dataset = pd.read_csv('Cleaned_Dataset.csv')\n",
    "print(dataset.shape)\n",
    "dataset.head()"
   ]
  },
  {
   "cell_type": "markdown",
   "metadata": {},
   "source": [
    "# Seperate Data Features vs. Targets\n",
    "The seperate X_data represent the input values. 'PLACE' and 'target' represent the Credit card target. What should the model predict given X_data. Also this snipet of code converts Pandas => numpy/matrix data type to feed into model with the '.as_matrix()' function."
   ]
  },
  {
   "cell_type": "code",
   "execution_count": 5,
   "metadata": {},
   "outputs": [
    {
     "name": "stdout",
     "output_type": "stream",
     "text": [
      "(223, 8)\n",
      "[[0.         0.50709255 0.16903085 ... 0.         0.         0.50709255]\n",
      " [0.23570226 0.47140452 0.         ... 0.         0.47140452 0.        ]\n",
      " [0.1796053  0.53881591 0.1796053  ... 0.         0.3592106  0.        ]\n",
      " ...\n",
      " [0.2        0.6        0.2        ... 0.         0.4        0.        ]\n",
      " [0.21320072 0.85280287 0.21320072 ... 0.         0.         0.        ]\n",
      " [0.21821789 0.65465367 0.21821789 ... 0.         0.         0.        ]]\n",
      "(223,)\n"
     ]
    },
    {
     "name": "stderr",
     "output_type": "stream",
     "text": [
      "D:\\Anaconda\\envs\\Python3.6\\lib\\site-packages\\ipykernel_launcher.py:3: FutureWarning: Method .as_matrix will be removed in a future version. Use .values instead.\n",
      "  This is separate from the ipykernel package so we can avoid doing imports until\n",
      "D:\\Anaconda\\envs\\Python3.6\\lib\\site-packages\\ipykernel_launcher.py:8: FutureWarning: Method .as_matrix will be removed in a future version. Use .values instead.\n",
      "  \n"
     ]
    }
   ],
   "source": [
    "from sklearn.preprocessing import normalize\n",
    "FEATURES = dataset.columns[0:8]\n",
    "X_data = dataset[FEATURES].as_matrix()\n",
    "X_data = normalize(X_data)\n",
    "print(X_data.shape)\n",
    "print(X_data)\n",
    "PLACE = dataset.columns[9]\n",
    "target = dataset[PLACE].as_matrix()\n",
    "print(target.shape)\n"
   ]
  },
  {
   "cell_type": "markdown",
   "metadata": {},
   "source": [
    "This snipet converts the single vector Y and turn it into a classification matrix with each class being the columns and the Rows being each Person/user."
   ]
  },
  {
   "cell_type": "code",
   "execution_count": 6,
   "metadata": {},
   "outputs": [
    {
     "name": "stdout",
     "output_type": "stream",
     "text": [
      "[[0 0 0 ... 0 0 0]\n",
      " [0 0 0 ... 0 0 0]\n",
      " [0 0 0 ... 0 0 0]\n",
      " ...\n",
      " [0 0 0 ... 0 0 0]\n",
      " [0 0 0 ... 0 0 0]\n",
      " [0 0 0 ... 0 0 0]]\n"
     ]
    }
   ],
   "source": [
    "from sklearn.preprocessing import normalize\n",
    "num_classes = 14\n",
    "num_of_samples = X_data.shape[0]\n",
    "label = np.zeros((num_of_samples,num_classes),dtype='int64')\n",
    "print(label)"
   ]
  },
  {
   "cell_type": "code",
   "execution_count": 7,
   "metadata": {},
   "outputs": [
    {
     "name": "stdout",
     "output_type": "stream",
     "text": [
      "(223, 14)\n"
     ]
    }
   ],
   "source": [
    "for i in range(0,223):\n",
    "    if target[i]== 0:\n",
    "        label[i,0]= 1\n",
    "    elif target[i] == 1:\n",
    "        label[i,1] = 1\n",
    "    elif target[i] == 2:\n",
    "        label[i,2] = 1\n",
    "    elif target[i] == 3:\n",
    "        label[i,3] = 1\n",
    "    elif target[i] == 4:\n",
    "        label[i,4] = 1\n",
    "    elif target[i] == 5:\n",
    "        label[i,5] = 1\n",
    "    elif target[i] == 6:\n",
    "        label[i,6] = 1\n",
    "    elif target[i] == 7:\n",
    "        label[i,7] = 1\n",
    "    elif target[i] == 8:\n",
    "        label[i,8] = 1\n",
    "    elif target[i] == 9:\n",
    "        label[i,9] = 1\n",
    "    elif target[i] == 10:\n",
    "        label[i,10] = 1\n",
    "    elif target[i] == 11:\n",
    "        label[i,11] = 1\n",
    "    elif target[i] == 12:\n",
    "        label[i,12] = 1\n",
    "    else:\n",
    "        label[i,13] = 1\n",
    "Y = label\n",
    "print(Y.shape)"
   ]
  },
  {
   "cell_type": "code",
   "execution_count": 8,
   "metadata": {},
   "outputs": [
    {
     "name": "stdout",
     "output_type": "stream",
     "text": [
      "[0 1 0 0 0 0 0 0 0 0 0 0 0 0]\n"
     ]
    }
   ],
   "source": [
    "from sklearn.model_selection import train_test_split\n",
    "X_train, X_test, y_train, y_test = train_test_split(X_data, Y, test_size=0.3, random_state=1)\n",
    "print(y_test[20])"
   ]
  },
  {
   "cell_type": "markdown",
   "metadata": {},
   "source": [
    "# The Model.\n",
    "Use multiple decision trees to help make an accurate prediction for the type of credit cards that the customer should get. The first function is the code for a single decision tree and helps set the foundation for multiple decision trees. The second function is the application of multiple decision trees at once to create a RANDOM FORREST of trees. "
   ]
  },
  {
   "cell_type": "code",
   "execution_count": 17,
   "metadata": {},
   "outputs": [],
   "source": [
    "def dtc_predict_actual(X_train, y_train, X_test, y_test):\n",
    "\n",
    "  dtc = DecisionTreeClassifier()\n",
    "  dtc.fit(X_train, y_train)\n",
    "  predictions = dtc.predict(X_test)\n",
    "\n",
    "  return predictions, y_test"
   ]
  },
  {
   "cell_type": "code",
   "execution_count": 10,
   "metadata": {},
   "outputs": [],
   "source": [
    "#Random Forest \n",
    "def rf_predict_actual(X_train, y_train, n_estimators):\n",
    "  rfc = RandomForestClassifier(n_estimators=n_estimators)\n",
    "  predicted = cross_val_predict(rfc, X_train, y_train, cv=10)\n",
    "\n",
    "  return predicted, y_train"
   ]
  },
  {
   "cell_type": "markdown",
   "metadata": {},
   "source": [
    "Test the accuracy "
   ]
  },
  {
   "cell_type": "code",
   "execution_count": 11,
   "metadata": {},
   "outputs": [],
   "source": [
    "def calculate_accuracy(predicted, actual):\n",
    "    total = len(predicted)\n",
    "    count = 0\n",
    "    for i in range (0, len(predicted)):\n",
    "        indicator = True\n",
    "        flag = True\n",
    "        for k in range(0,13):\n",
    "            if predicted[i,k] != actual [i,k]:\n",
    "                flag = False\n",
    "            if flag == False:\n",
    "                indicator = False\n",
    "            flag = True \n",
    "        if indicator != False:\n",
    "            count+=1\n",
    "        indicator = True\n",
    "    return count / total *100"
   ]
  },
  {
   "cell_type": "markdown",
   "metadata": {},
   "source": [
    "# Test The Trees "
   ]
  },
  {
   "cell_type": "code",
   "execution_count": 19,
   "metadata": {},
   "outputs": [
    {
     "name": "stdout",
     "output_type": "stream",
     "text": [
      "80.59701492537313\n",
      "80.59701492537313\n"
     ]
    }
   ],
   "source": [
    "number_estimators = 1000 \n",
    "predicted, actual = dtc_predict_actual(X_train, y_train, X_test, y_test)\n",
    "print(calculate_accuracy(predicted, actual))\n",
    "predicted1, actual1 = rf_predict_actual(X_train, y_train, number_estimators)\n",
    "print(calculate_accuracy(predicted, actual))"
   ]
  },
  {
   "cell_type": "code",
   "execution_count": 21,
   "metadata": {},
   "outputs": [
    {
     "name": "stdout",
     "output_type": "stream",
     "text": [
      "[[0. 0. 0. 1. 0. 0. 0. 0. 0. 0. 0. 0. 0. 0.]]\n",
      "[[0 0 0 1 0 0 0 0 0 0 0 0 0 0]]\n"
     ]
    }
   ],
   "source": [
    "test_subject = 3\n",
    "test_value = predicted [test_subject-1:test_subject, :]\n",
    "result = test_value\n",
    "print(result)\n",
    "num = np.argmax(actual)\n",
    "real = np.argmax(actual[test_subject-1:test_subject, :])\n",
    "print(actual[test_subject-1:test_subject, :])\n"
   ]
  },
  {
   "cell_type": "code",
   "execution_count": 32,
   "metadata": {},
   "outputs": [
    {
     "name": "stdout",
     "output_type": "stream",
     "text": [
      "Model Prediction\n",
      "Predicted: American Express Cobalt\n",
      "\n",
      "Ground Truth: \n",
      "Predicted: American Express Cobalt\n"
     ]
    }
   ],
   "source": [
    "print(\"Model Prediction\")\n",
    "if num ==0:\n",
    "    print(\"Predicted: American Express Cobalt\")\n",
    "elif num ==1:\n",
    "    print(\"Predicted: American Express Essential\")\n",
    "elif num ==2:\n",
    "    print(\"Predicted: American Express Marriot Bonvoy\")\n",
    "elif num ==3:\n",
    "    print(\"Predicted: American Express Simply Cash\")\n",
    "elif num ==4:\n",
    "    print(\"Predicted: American Express Simply Cash Preferred\")\n",
    "elif num ==5:\n",
    "    print(\"Predicted: Meridian Visa Infinite\")\n",
    "elif num ==6:\n",
    "    print(\"Predicted: PC Financial Mastercard\")\n",
    "elif num ==7:\n",
    "    print(\"Predicted: Scotiabank Momentum No-Fee Visa\")\n",
    "elif num ==8:\n",
    "    print(\"Predicted: Scotiabank Momentum Visa Infinite\")\n",
    "elif num ==9:\n",
    "    print(\"Predicted: Scotiabank SCENE Visa\")\n",
    "elif num ==10:\n",
    "    print(\"Predicted: True Line Gold Mastercard\")\n",
    "elif num ==11:\n",
    "    print(\"Predicted: True Line Mastercard\")\n",
    "elif num ==12:\n",
    "    print(\"Predicted: American Express Blue Sky\")\n",
    "elif num ==13:\n",
    "    print(\"Predicted: Not Enough\")\n",
    "\n",
    "print()\n",
    "    \n",
    "print(\"Ground Truth: \")\n",
    "num = real\n",
    "if num ==0:\n",
    "    print(\"Predicted: American Express Cobalt\")\n",
    "elif num ==1:\n",
    "    print(\"Predicted: American Express Essential\")\n",
    "elif num ==2:\n",
    "    print(\"Predicted: American Express Marriot Bonvoy\")\n",
    "elif num ==3:\n",
    "    print(\"Predicted: American Express Simply Cash\")\n",
    "elif num ==4:\n",
    "    print(\"Predicted: American Express Simply Cash Preferred\")\n",
    "elif num ==5:\n",
    "    print(\"Predicted: Meridian Visa Infinite\")\n",
    "elif num ==6:\n",
    "    print(\"Predicted: PC Financial Mastercard\")\n",
    "elif num ==7:\n",
    "    print(\"Predicted: Scotiabank Momentum No-Fee Visa\")\n",
    "elif num ==8:\n",
    "    print(\"Predicted: Scotiabank Momentum Visa Infinite\")\n",
    "elif num ==9:\n",
    "    print(\"Predicted: Scotiabank SCENE Visa\")\n",
    "elif num ==10:\n",
    "    print(\"Predicted: True Line Gold Mastercard\")\n",
    "elif num ==11:\n",
    "    print(\"Predicted: True Line Mastercard\")\n",
    "elif num ==12:\n",
    "    print(\"Predicted: American Express Blue Sky\")\n",
    "elif num ==13:\n",
    "    print(\"Predicted: Not Enough\")"
   ]
  }
 ],
 "metadata": {
  "kernelspec": {
   "display_name": "Python 3",
   "language": "python",
   "name": "python3"
  },
  "language_info": {
   "codemirror_mode": {
    "name": "ipython",
    "version": 3
   },
   "file_extension": ".py",
   "mimetype": "text/x-python",
   "name": "python",
   "nbconvert_exporter": "python",
   "pygments_lexer": "ipython3",
   "version": "3.6.6"
  }
 },
 "nbformat": 4,
 "nbformat_minor": 2
}
